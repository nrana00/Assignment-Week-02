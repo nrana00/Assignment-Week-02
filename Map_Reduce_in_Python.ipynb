{
  "nbformat": 4,
  "nbformat_minor": 0,
  "metadata": {
    "colab": {
      "provenance": [],
      "include_colab_link": true
    },
    "kernelspec": {
      "name": "python3",
      "display_name": "Python 3"
    },
    "language_info": {
      "name": "python"
    }
  },
  "cells": [
    {
      "cell_type": "markdown",
      "metadata": {
        "id": "view-in-github",
        "colab_type": "text"
      },
      "source": [
        "<a href=\"https://colab.research.google.com/github/nrana00/Assignment-Week-02/blob/main/Map_Reduce_in_Python.ipynb\" target=\"_parent\"><img src=\"https://colab.research.google.com/assets/colab-badge.svg\" alt=\"Open In Colab\"/></a>"
      ]
    },
    {
      "cell_type": "markdown",
      "source": [
        "We want to implement map-reduce using Python. The problem is word counting.\n",
        "\n",
        "Reference:\n",
        "- https://icaml.org/canon/basics/mapreduce_wordcout_python.html"
      ],
      "metadata": {
        "id": "aD-VvCfFLK0z"
      }
    },
    {
      "cell_type": "code",
      "execution_count": 1,
      "metadata": {
        "id": "L5YB1wY3K6se"
      },
      "outputs": [],
      "source": [
        "# Import the required libraries\n",
        "import sys;\n",
        "from itertools import groupby;"
      ]
    },
    {
      "cell_type": "code",
      "source": [
        "# Create a map function\n",
        "def mapfunc(w):\n",
        "    # Let us remove all puncuation and spaces.  \n",
        "    cleanword = ''.join([i for i in w if i.isalpha()])\n",
        "    return [cleanword,1];"
      ],
      "metadata": {
        "id": "l2B2MEhTLZdW"
      },
      "execution_count": 2,
      "outputs": []
    },
    {
      "cell_type": "code",
      "source": [
        "# Create a reduce function\n",
        "def reducefunc(key, values):\n",
        "    counts = [x[1] for x in values];\n",
        "    return [key,sum(counts)];"
      ],
      "metadata": {
        "id": "tP70XNBJLho8"
      },
      "execution_count": 3,
      "outputs": []
    },
    {
      "cell_type": "code",
      "source": [
        "# Download the data\n",
        "!wget https://www.gutenberg.org/cache/epub/1777/pg1777.txt -O romeojuliet.txt"
      ],
      "metadata": {
        "colab": {
          "base_uri": "https://localhost:8080/"
        },
        "id": "p4jw8vfQLv4_",
        "outputId": "d7823181-a876-4452-df02-ceb1b2e5e3c7"
      },
      "execution_count": 5,
      "outputs": [
        {
          "output_type": "stream",
          "name": "stdout",
          "text": [
            "--2023-03-09 07:10:53--  https://www.gutenberg.org/cache/epub/1777/pg1777.txt\n",
            "Resolving www.gutenberg.org (www.gutenberg.org)... 152.19.134.47, 2610:28:3090:3000:0:bad:cafe:47\n",
            "Connecting to www.gutenberg.org (www.gutenberg.org)|152.19.134.47|:443... connected.\n",
            "HTTP request sent, awaiting response... 200 OK\n",
            "Length: 169292 (165K) [text/plain]\n",
            "Saving to: ‘romeojuliet.txt’\n",
            "\n",
            "\rromeojuliet.txt       0%[                    ]       0  --.-KB/s               \rromeojuliet.txt     100%[===================>] 165.32K  --.-KB/s    in 0.04s   \n",
            "\n",
            "2023-03-09 07:10:54 (3.64 MB/s) - ‘romeojuliet.txt’ saved [169292/169292]\n",
            "\n"
          ]
        }
      ]
    },
    {
      "cell_type": "code",
      "source": [
        "# Split the document into single word\n",
        "with open(\"romeojuliet.txt\") as f:\n",
        "    words=[word for line in f for word in line.split()]"
      ],
      "metadata": {
        "id": "FZavKWWGMc7y"
      },
      "execution_count": 6,
      "outputs": []
    },
    {
      "cell_type": "code",
      "source": [
        "print(words[:50])"
      ],
      "metadata": {
        "colab": {
          "base_uri": "https://localhost:8080/"
        },
        "id": "2cxDzqVtMrIv",
        "outputId": "daa80744-9d6e-4be3-a207-8991ac6d1151"
      },
      "execution_count": 7,
      "outputs": [
        {
          "output_type": "stream",
          "name": "stdout",
          "text": [
            "['\\ufeff', '*******************************************************************', 'THIS', 'EBOOK', 'WAS', 'ONE', 'OF', 'PROJECT', \"GUTENBERG'S\", 'EARLY', 'FILES', 'PRODUCED', 'AT', 'A', 'TIME', 'WHEN', 'PROOFING', 'METHODS', 'AND', 'TOOLS', 'WERE', 'NOT', 'WELL', 'DEVELOPED.', 'THERE', 'IS', 'AN', 'IMPROVED', 'EDITION', 'OF', 'THIS', 'TITLE', 'WHICH', 'MAY', 'BE', 'VIEWED', 'AS', 'EBOOK', '(#1513)', 'at', 'https://www.gutenberg.org/ebooks/1513', '*******************************************************************', 'This', 'Etext', 'file', 'is', 'presented', 'by', 'Project', 'Gutenberg,']\n"
          ]
        }
      ]
    },
    {
      "cell_type": "code",
      "source": [
        "# Test mapfunc function\n",
        "print(mapfunc(words[100]))"
      ],
      "metadata": {
        "colab": {
          "base_uri": "https://localhost:8080/"
        },
        "id": "7ud-txdLOxmi",
        "outputId": "14aacb1c-bdae-45a0-ddc9-7ed90f2200f8"
      },
      "execution_count": 8,
      "outputs": [
        {
          "output_type": "stream",
          "name": "stdout",
          "text": [
            "['BY', 1]\n"
          ]
        }
      ]
    },
    {
      "cell_type": "code",
      "source": [
        "map_result = list(map(mapfunc, words))"
      ],
      "metadata": {
        "id": "MHs11CqRMscR"
      },
      "execution_count": 9,
      "outputs": []
    },
    {
      "cell_type": "code",
      "source": [
        "# Test the result\n",
        "print(map_result[:50])"
      ],
      "metadata": {
        "colab": {
          "base_uri": "https://localhost:8080/"
        },
        "id": "5zKD18jiPv0G",
        "outputId": "8c2eea55-b435-4767-980c-ee3289001adb"
      },
      "execution_count": 10,
      "outputs": [
        {
          "output_type": "stream",
          "name": "stdout",
          "text": [
            "[['', 1], ['', 1], ['THIS', 1], ['EBOOK', 1], ['WAS', 1], ['ONE', 1], ['OF', 1], ['PROJECT', 1], ['GUTENBERGS', 1], ['EARLY', 1], ['FILES', 1], ['PRODUCED', 1], ['AT', 1], ['A', 1], ['TIME', 1], ['WHEN', 1], ['PROOFING', 1], ['METHODS', 1], ['AND', 1], ['TOOLS', 1], ['WERE', 1], ['NOT', 1], ['WELL', 1], ['DEVELOPED', 1], ['THERE', 1], ['IS', 1], ['AN', 1], ['IMPROVED', 1], ['EDITION', 1], ['OF', 1], ['THIS', 1], ['TITLE', 1], ['WHICH', 1], ['MAY', 1], ['BE', 1], ['VIEWED', 1], ['AS', 1], ['EBOOK', 1], ['', 1], ['at', 1], ['httpswwwgutenbergorgebooks', 1], ['', 1], ['This', 1], ['Etext', 1], ['file', 1], ['is', 1], ['presented', 1], ['by', 1], ['Project', 1], ['Gutenberg', 1]]\n"
          ]
        }
      ]
    },
    {
      "cell_type": "code",
      "source": [
        "map_result_sorted = sorted (map_result, key = lambda x: x[0])"
      ],
      "metadata": {
        "id": "575TDKAhNCbn"
      },
      "execution_count": 11,
      "outputs": []
    },
    {
      "cell_type": "code",
      "source": [
        "# Sort the data\n",
        "map_result_sorted = sorted (map_result, key = lambda x: x[0])"
      ],
      "metadata": {
        "id": "2JU48A73P_Sb"
      },
      "execution_count": 12,
      "outputs": []
    },
    {
      "cell_type": "code",
      "source": [
        "# Test the operation\n",
        "print(map_result_sorted[:50])"
      ],
      "metadata": {
        "colab": {
          "base_uri": "https://localhost:8080/"
        },
        "id": "-xD0TTjqQGZh",
        "outputId": "305e7672-f4a8-4f4f-ec2b-411fae0b132c"
      },
      "execution_count": 13,
      "outputs": [
        {
          "output_type": "stream",
          "name": "stdout",
          "text": [
            "[['', 1], ['', 1], ['', 1], ['', 1], ['', 1], ['', 1], ['', 1], ['', 1], ['', 1], ['', 1], ['', 1], ['', 1], ['', 1], ['', 1], ['', 1], ['', 1], ['', 1], ['', 1], ['', 1], ['', 1], ['', 1], ['', 1], ['', 1], ['', 1], ['', 1], ['', 1], ['', 1], ['', 1], ['', 1], ['', 1], ['', 1], ['', 1], ['', 1], ['', 1], ['', 1], ['', 1], ['', 1], ['', 1], ['', 1], ['', 1], ['', 1], ['', 1], ['', 1], ['', 1], ['', 1], ['', 1], ['', 1], ['', 1], ['', 1], ['', 1]]\n"
          ]
        }
      ]
    },
    {
      "cell_type": "code",
      "source": [
        "# Apply the reduce function\n",
        "reduce_result = [];\n",
        "for k, g in groupby(map_result_sorted, key = lambda x: x[0]):\n",
        "    reduce_result.append(reducefunc(k, list(g)))"
      ],
      "metadata": {
        "id": "cyu9JgjZNkl2"
      },
      "execution_count": 14,
      "outputs": []
    },
    {
      "cell_type": "code",
      "source": [
        "# See the result\n",
        "print(reduce_result[:200])"
      ],
      "metadata": {
        "colab": {
          "base_uri": "https://localhost:8080/"
        },
        "id": "jyMOgWFEN45l",
        "outputId": "333f4884-359f-4dc5-abc8-75e061ba978d"
      },
      "execution_count": 15,
      "outputs": [
        {
          "output_type": "stream",
          "name": "stdout",
          "text": [
            "[['', 90], ['A', 71], ['ACCESS', 1], ['ACT', 5], ['ALLOWED', 1], ['AN', 1], ['AND', 31], ['ANY', 12], ['ANYONE', 1], ['ARE', 22], ['AS', 11], ['ASCII', 2], ['ASIS', 1], ['AT', 1], ['AWAY', 1], ['Abate', 1], ['Above', 1], ['Abr', 5], ['Abram', 2], ['Accursd', 1], ['Acquaint', 1], ['Adding', 1], ['Adieu', 1], ['Adversitys', 1], ['Affection', 1], ['Affliction', 1], ['Afore', 1], ['After', 1], ['Against', 1], ['Ah', 19], ['Alack', 7], ['Alas', 5], ['Alike', 1], ['Alive', 1], ['All', 11], ['Alla', 1], ['Although', 1], ['Am', 3], ['Amen', 2], ['Among', 2], ['An', 23], ['Ancient', 1], ['And', 229], ['Angelica', 1], ['Anon', 5], ['Anselmo', 1], ['Answer', 2], ['Anthony', 1], ['Any', 1], ['Apoth', 4], ['Apothecary', 2], ['Appear', 1], ['April', 1], ['Are', 3], ['Arise', 2], ['Arms', 1], ['Art', 4], ['As', 35], ['Ascend', 1], ['Ask', 1], ['Association', 1], ['At', 8], ['Athwart', 1], ['Attendants', 2], ['Attorney', 1], ['Auroras', 1], ['Away', 5], ['Ay', 24], ['B', 3], ['BE', 11], ['BREACH', 1], ['BUT', 3], ['BY', 27], ['Back', 1], ['Bal', 9], ['Balthasar', 7], ['Banishd', 1], ['Be', 13], ['Bear', 1], ['Bearing', 1], ['Beats', 1], ['Beautiful', 1], ['Beauty', 1], ['Beautys', 1], ['Because', 3], ['Beg', 1], ['Begot', 1], ['Beguild', 1], ['Being', 14], ['Believe', 1], ['Belonging', 1], ['Ben', 64], ['Benedicite', 1], ['Benvolio', 17], ['Beshrew', 2], ['Bethink', 1], ['Betrothd', 1], ['Bid', 2], ['Black', 1], ['Blind', 1], ['Bliss', 1], ['Blisterd', 1], ['Blubbring', 1], ['Bondage', 1], ['Borrow', 1], ['Both', 5], ['Box', 2], ['Boy', 5], ['Brags', 1], ['Brief', 1], ['Bring', 1], ['Brother', 1], ['But', 83], ['Buy', 1], ['By', 32], ['Byandby', 2], ['Byr', 1], ['C', 1], ['CARNEGIE', 8], ['CDROMS', 1], ['CHARGES', 11], ['CMU', 1], ['COMMERCIAL', 9], ['COMMERCIALLY', 9], ['COMPLETE', 11], ['CONDITIONS', 1], ['CONSEQUENTIAL', 1], ['CONTRACT', 1], ['COPIES', 18], ['COPYRIGHT', 9], ['Call', 6], ['Calling', 1], ['Came', 4], ['Can', 7], ['Cankred', 1], ['Cap', 53], ['Capels', 2], ['Capulet', 33], ['Capulets', 18], ['Care', 1], ['Carnegie', 2], ['Cast', 2], ['Catling', 1], ['Cats', 2], ['Central', 1], ['Champaign', 2], ['Charles', 1], ['Checkring', 1], ['Cheerly', 2], ['Chief', 6], ['Chor', 2], ['Chorus', 3], ['Christian', 1], ['Church', 4], ['Citizen', 2], ['Citizens', 4], ['Cleopatra', 1], ['Climbs', 1], ['Clown', 1], ['Clubs', 1], ['Cold', 1], ['Come', 38], ['Comfort', 1], ['Commend', 4], ['Compare', 1], ['Complete', 4], ['Computers', 1], ['Conceit', 1], ['Condemned', 1], ['Confusions', 1], ['Consort', 1], ['Contempt', 1], ['Content', 1], ['Cophetua', 1], ['Could', 5], ['Count', 1], ['County', 19], ['Countys', 1], ['Couple', 1], ['Courage', 1], ['Cry', 1], ['Culling', 1], ['Cupid', 3], ['Cupids', 2], ['Cuts', 1], ['Cynthias', 1], ['DAMAGES', 3], ['DEVELOPED', 1], ['DISCLAIMER', 1], ['DISTRIBUTE', 1], ['DISTRIBUTED', 17], ['DISTRIBUTION', 9], ['DOMAIN', 1], ['DONT', 1], ['DOWNLOAD', 9], ['Day', 1], ['Dead', 1], ['Dear', 1], ['Death', 10], ['Deaths', 1]]\n"
          ]
        }
      ]
    }
  ]
}